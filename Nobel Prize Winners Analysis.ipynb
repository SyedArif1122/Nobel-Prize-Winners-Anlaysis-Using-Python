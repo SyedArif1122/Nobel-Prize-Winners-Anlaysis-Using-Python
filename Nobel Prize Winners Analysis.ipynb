{
 "cells": [
  {
   "cell_type": "markdown",
   "id": "c068a1d0",
   "metadata": {},
   "source": [
    "# Nobel Prize Winners Analysis with Python"
   ]
  },
  {
   "cell_type": "markdown",
   "id": "1b3ba75c",
   "metadata": {},
   "source": [
    "The Nobel Prize is an international award administered by the Nobel Foundation in Stockholm, Sweden, and is based on the fortune of Alfred Nobel, a Swedish inventor, engineer, and industrialist. In 1968, Sveriges Riksbank established The Sveriges Riksbank Prize in Economic Sciences in Memory of Alfred Nobel, founder of the Nobel Prize.\n",
    "\n",
    "Between 1901 and 2023, the Nobel Prizes and the Sveriges Riksbank Prize in Economic Sciences in Memory of Alfred Nobel were awarded 621 times to 1,000 people and organisations. With some receiving the Nobel Prize more than once, this makes a total of 965 individuals and 27 organisations."
   ]
  },
  {
   "cell_type": "markdown",
   "id": "6ff2a48f",
   "metadata": {},
   "source": [
    "# Import Library"
   ]
  },
  {
   "cell_type": "code",
   "execution_count": 2,
   "id": "df179ad8",
   "metadata": {},
   "outputs": [],
   "source": [
    "import pandas as pd"
   ]
  },
  {
   "cell_type": "code",
   "execution_count": 3,
   "id": "517a0fd1",
   "metadata": {},
   "outputs": [
    {
     "name": "stderr",
     "output_type": "stream",
     "text": [
      "C:\\Users\\Syed Arif\\anaconda3\\lib\\site-packages\\scipy\\__init__.py:146: UserWarning: A NumPy version >=1.16.5 and <1.23.0 is required for this version of SciPy (detected version 1.25.1\n",
      "  warnings.warn(f\"A NumPy version >={np_minversion} and <{np_maxversion}\"\n"
     ]
    }
   ],
   "source": [
    "import pandas as pd\n",
    "import seaborn as sns\n",
    "import matplotlib.pyplot as plt\n",
    "import seaborn as sns"
   ]
  },
  {
   "cell_type": "markdown",
   "id": "4b0eb245",
   "metadata": {},
   "source": [
    "# Uploading Csv fle"
   ]
  },
  {
   "cell_type": "code",
   "execution_count": 4,
   "id": "ddda5ead",
   "metadata": {},
   "outputs": [],
   "source": [
    "df = pd.read_csv(r\"C:\\Users\\Syed Arif\\Desktop\\Nobel_Prize.csv\")"
   ]
  },
  {
   "cell_type": "markdown",
   "id": "c5597201",
   "metadata": {},
   "source": [
    "# Data Preprocessing\n"
   ]
  },
  {
   "cell_type": "markdown",
   "id": "aace63f6",
   "metadata": {},
   "source": [
    "# .head()"
   ]
  },
  {
   "cell_type": "markdown",
   "id": "b7a66965",
   "metadata": {},
   "source": [
    "head is used show to the By default = 5 rows in the dataset"
   ]
  },
  {
   "cell_type": "code",
   "execution_count": 5,
   "id": "1c714689",
   "metadata": {},
   "outputs": [
    {
     "data": {
      "text/html": [
       "<div>\n",
       "<style scoped>\n",
       "    .dataframe tbody tr th:only-of-type {\n",
       "        vertical-align: middle;\n",
       "    }\n",
       "\n",
       "    .dataframe tbody tr th {\n",
       "        vertical-align: top;\n",
       "    }\n",
       "\n",
       "    .dataframe thead th {\n",
       "        text-align: right;\n",
       "    }\n",
       "</style>\n",
       "<table border=\"1\" class=\"dataframe\">\n",
       "  <thead>\n",
       "    <tr style=\"text-align: right;\">\n",
       "      <th></th>\n",
       "      <th>year</th>\n",
       "      <th>category</th>\n",
       "      <th>motivation</th>\n",
       "      <th>prizeShare</th>\n",
       "      <th>laureateID</th>\n",
       "      <th>fullName</th>\n",
       "      <th>gender</th>\n",
       "      <th>born</th>\n",
       "      <th>bornCountry</th>\n",
       "      <th>bornCity</th>\n",
       "      <th>died</th>\n",
       "      <th>diedCountry</th>\n",
       "      <th>diedCity</th>\n",
       "      <th>organizationName</th>\n",
       "      <th>organizationCountry</th>\n",
       "      <th>organizationCity</th>\n",
       "    </tr>\n",
       "  </thead>\n",
       "  <tbody>\n",
       "    <tr>\n",
       "      <th>0</th>\n",
       "      <td>2023</td>\n",
       "      <td>medicine</td>\n",
       "      <td>for their discoveries concerning nucleoside ba...</td>\n",
       "      <td>2</td>\n",
       "      <td>1024</td>\n",
       "      <td>Katalin Kariko</td>\n",
       "      <td>female</td>\n",
       "      <td>17-01-1955</td>\n",
       "      <td>Hungary</td>\n",
       "      <td>Szolnok</td>\n",
       "      <td>0000-00-00</td>\n",
       "      <td>NaN</td>\n",
       "      <td>NaN</td>\n",
       "      <td>Szeged University</td>\n",
       "      <td>Hungary</td>\n",
       "      <td>Szeged</td>\n",
       "    </tr>\n",
       "    <tr>\n",
       "      <th>1</th>\n",
       "      <td>2023</td>\n",
       "      <td>economics</td>\n",
       "      <td>for having advanced our understanding of women...</td>\n",
       "      <td>1</td>\n",
       "      <td>1034</td>\n",
       "      <td>Claudia Goldin</td>\n",
       "      <td>female</td>\n",
       "      <td>1946-00-00</td>\n",
       "      <td>USA</td>\n",
       "      <td>New York NY</td>\n",
       "      <td>0000-00-00</td>\n",
       "      <td>NaN</td>\n",
       "      <td>NaN</td>\n",
       "      <td>Harvard University</td>\n",
       "      <td>USA</td>\n",
       "      <td>Cambridge MA</td>\n",
       "    </tr>\n",
       "    <tr>\n",
       "      <th>2</th>\n",
       "      <td>2023</td>\n",
       "      <td>peace</td>\n",
       "      <td>for her fight against the oppression of women ...</td>\n",
       "      <td>1</td>\n",
       "      <td>1033</td>\n",
       "      <td>Narges Mohammadi</td>\n",
       "      <td>female</td>\n",
       "      <td>21-04-1972</td>\n",
       "      <td>Iran</td>\n",
       "      <td>Zanjan</td>\n",
       "      <td>0000-00-00</td>\n",
       "      <td>NaN</td>\n",
       "      <td>NaN</td>\n",
       "      <td>NaN</td>\n",
       "      <td>NaN</td>\n",
       "      <td>NaN</td>\n",
       "    </tr>\n",
       "    <tr>\n",
       "      <th>3</th>\n",
       "      <td>2023</td>\n",
       "      <td>literature</td>\n",
       "      <td>for his innovative plays and prose which give ...</td>\n",
       "      <td>1</td>\n",
       "      <td>1032</td>\n",
       "      <td>Jon Fosse</td>\n",
       "      <td>male</td>\n",
       "      <td>29-09-1959</td>\n",
       "      <td>Norway</td>\n",
       "      <td>Haugesund</td>\n",
       "      <td>0000-00-00</td>\n",
       "      <td>NaN</td>\n",
       "      <td>NaN</td>\n",
       "      <td>NaN</td>\n",
       "      <td>NaN</td>\n",
       "      <td>NaN</td>\n",
       "    </tr>\n",
       "    <tr>\n",
       "      <th>4</th>\n",
       "      <td>2023</td>\n",
       "      <td>chemistry</td>\n",
       "      <td>for the discovery and synthesis of quantum dots</td>\n",
       "      <td>3</td>\n",
       "      <td>1031</td>\n",
       "      <td>Alexei Ekimov</td>\n",
       "      <td>male</td>\n",
       "      <td>1945-00-00</td>\n",
       "      <td>Russia</td>\n",
       "      <td>NaN</td>\n",
       "      <td>0000-00-00</td>\n",
       "      <td>NaN</td>\n",
       "      <td>NaN</td>\n",
       "      <td>Nanocrystals Technology Inc.</td>\n",
       "      <td>USA</td>\n",
       "      <td>New York NY</td>\n",
       "    </tr>\n",
       "  </tbody>\n",
       "</table>\n",
       "</div>"
      ],
      "text/plain": [
       "   year    category                                         motivation  \\\n",
       "0  2023    medicine  for their discoveries concerning nucleoside ba...   \n",
       "1  2023   economics  for having advanced our understanding of women...   \n",
       "2  2023       peace  for her fight against the oppression of women ...   \n",
       "3  2023  literature  for his innovative plays and prose which give ...   \n",
       "4  2023   chemistry    for the discovery and synthesis of quantum dots   \n",
       "\n",
       "   prizeShare  laureateID          fullName  gender        born bornCountry  \\\n",
       "0           2        1024    Katalin Kariko  female  17-01-1955     Hungary   \n",
       "1           1        1034    Claudia Goldin  female  1946-00-00         USA   \n",
       "2           1        1033  Narges Mohammadi  female  21-04-1972        Iran   \n",
       "3           1        1032         Jon Fosse    male  29-09-1959      Norway   \n",
       "4           3        1031     Alexei Ekimov    male  1945-00-00      Russia   \n",
       "\n",
       "      bornCity        died diedCountry diedCity              organizationName  \\\n",
       "0      Szolnok  0000-00-00         NaN      NaN             Szeged University   \n",
       "1  New York NY  0000-00-00         NaN      NaN            Harvard University   \n",
       "2       Zanjan  0000-00-00         NaN      NaN                           NaN   \n",
       "3    Haugesund  0000-00-00         NaN      NaN                           NaN   \n",
       "4          NaN  0000-00-00         NaN      NaN  Nanocrystals Technology Inc.   \n",
       "\n",
       "  organizationCountry organizationCity  \n",
       "0             Hungary           Szeged  \n",
       "1                 USA     Cambridge MA  \n",
       "2                 NaN              NaN  \n",
       "3                 NaN              NaN  \n",
       "4                 USA      New York NY  "
      ]
     },
     "execution_count": 5,
     "metadata": {},
     "output_type": "execute_result"
    }
   ],
   "source": [
    "df.head()"
   ]
  },
  {
   "cell_type": "markdown",
   "id": "8684a0d2",
   "metadata": {},
   "source": [
    "# .tail()"
   ]
  },
  {
   "cell_type": "markdown",
   "id": "dc1a3074",
   "metadata": {},
   "source": [
    "tail is used to show rows by Descending order"
   ]
  },
  {
   "cell_type": "code",
   "execution_count": 6,
   "id": "13069e51",
   "metadata": {},
   "outputs": [
    {
     "data": {
      "text/html": [
       "<div>\n",
       "<style scoped>\n",
       "    .dataframe tbody tr th:only-of-type {\n",
       "        vertical-align: middle;\n",
       "    }\n",
       "\n",
       "    .dataframe tbody tr th {\n",
       "        vertical-align: top;\n",
       "    }\n",
       "\n",
       "    .dataframe thead th {\n",
       "        text-align: right;\n",
       "    }\n",
       "</style>\n",
       "<table border=\"1\" class=\"dataframe\">\n",
       "  <thead>\n",
       "    <tr style=\"text-align: right;\">\n",
       "      <th></th>\n",
       "      <th>year</th>\n",
       "      <th>category</th>\n",
       "      <th>motivation</th>\n",
       "      <th>prizeShare</th>\n",
       "      <th>laureateID</th>\n",
       "      <th>fullName</th>\n",
       "      <th>gender</th>\n",
       "      <th>born</th>\n",
       "      <th>bornCountry</th>\n",
       "      <th>bornCity</th>\n",
       "      <th>died</th>\n",
       "      <th>diedCountry</th>\n",
       "      <th>diedCity</th>\n",
       "      <th>organizationName</th>\n",
       "      <th>organizationCountry</th>\n",
       "      <th>organizationCity</th>\n",
       "    </tr>\n",
       "  </thead>\n",
       "  <tbody>\n",
       "    <tr>\n",
       "      <th>995</th>\n",
       "      <td>1901</td>\n",
       "      <td>peace</td>\n",
       "      <td>for his lifelong work for international peace ...</td>\n",
       "      <td>2</td>\n",
       "      <td>463</td>\n",
       "      <td>Frederic Passy</td>\n",
       "      <td>male</td>\n",
       "      <td>1822-05-20</td>\n",
       "      <td>France</td>\n",
       "      <td>Paris</td>\n",
       "      <td>6/12/1912</td>\n",
       "      <td>France</td>\n",
       "      <td>Paris</td>\n",
       "      <td>NaN</td>\n",
       "      <td>NaN</td>\n",
       "      <td>NaN</td>\n",
       "    </tr>\n",
       "    <tr>\n",
       "      <th>996</th>\n",
       "      <td>1901</td>\n",
       "      <td>peace</td>\n",
       "      <td>for his humanitarian efforts to help wounded s...</td>\n",
       "      <td>2</td>\n",
       "      <td>462</td>\n",
       "      <td>Henry Dunant</td>\n",
       "      <td>male</td>\n",
       "      <td>1828-05-08</td>\n",
       "      <td>Switzerland</td>\n",
       "      <td>Geneva</td>\n",
       "      <td>10/30/1910</td>\n",
       "      <td>Switzerland</td>\n",
       "      <td>Heiden</td>\n",
       "      <td>NaN</td>\n",
       "      <td>NaN</td>\n",
       "      <td>NaN</td>\n",
       "    </tr>\n",
       "    <tr>\n",
       "      <th>997</th>\n",
       "      <td>1901</td>\n",
       "      <td>medicine</td>\n",
       "      <td>for his work on serum therapy especially its a...</td>\n",
       "      <td>1</td>\n",
       "      <td>293</td>\n",
       "      <td>Emil von Behring</td>\n",
       "      <td>male</td>\n",
       "      <td>1854-03-15</td>\n",
       "      <td>Poland</td>\n",
       "      <td>Lawice</td>\n",
       "      <td>3/31/1917</td>\n",
       "      <td>Germany</td>\n",
       "      <td>Marburg</td>\n",
       "      <td>Marburg University</td>\n",
       "      <td>Germany</td>\n",
       "      <td>Marburg</td>\n",
       "    </tr>\n",
       "    <tr>\n",
       "      <th>998</th>\n",
       "      <td>1901</td>\n",
       "      <td>chemistry</td>\n",
       "      <td>in recognition of the extraordinary services h...</td>\n",
       "      <td>1</td>\n",
       "      <td>160</td>\n",
       "      <td>Jacobus H. van 't Hoff</td>\n",
       "      <td>male</td>\n",
       "      <td>1852-08-30</td>\n",
       "      <td>the Netherlands</td>\n",
       "      <td>Rotterdam</td>\n",
       "      <td>3/1/1911</td>\n",
       "      <td>Germany</td>\n",
       "      <td>Berlin</td>\n",
       "      <td>Berlin University</td>\n",
       "      <td>Germany</td>\n",
       "      <td>Berlin</td>\n",
       "    </tr>\n",
       "    <tr>\n",
       "      <th>999</th>\n",
       "      <td>1901</td>\n",
       "      <td>physics</td>\n",
       "      <td>in recognition of the extraordinary services h...</td>\n",
       "      <td>1</td>\n",
       "      <td>1</td>\n",
       "      <td>Wilhelm Conrad Rontgen</td>\n",
       "      <td>male</td>\n",
       "      <td>1845-03-27</td>\n",
       "      <td>Germany</td>\n",
       "      <td>Remscheid</td>\n",
       "      <td>2/10/1923</td>\n",
       "      <td>Germany</td>\n",
       "      <td>Munich</td>\n",
       "      <td>Munich University</td>\n",
       "      <td>Germany</td>\n",
       "      <td>Munich</td>\n",
       "    </tr>\n",
       "  </tbody>\n",
       "</table>\n",
       "</div>"
      ],
      "text/plain": [
       "     year   category                                         motivation  \\\n",
       "995  1901      peace  for his lifelong work for international peace ...   \n",
       "996  1901      peace  for his humanitarian efforts to help wounded s...   \n",
       "997  1901   medicine  for his work on serum therapy especially its a...   \n",
       "998  1901  chemistry  in recognition of the extraordinary services h...   \n",
       "999  1901    physics  in recognition of the extraordinary services h...   \n",
       "\n",
       "     prizeShare  laureateID                fullName gender        born  \\\n",
       "995           2         463          Frederic Passy   male  1822-05-20   \n",
       "996           2         462            Henry Dunant   male  1828-05-08   \n",
       "997           1         293        Emil von Behring   male  1854-03-15   \n",
       "998           1         160  Jacobus H. van 't Hoff   male  1852-08-30   \n",
       "999           1           1  Wilhelm Conrad Rontgen   male  1845-03-27   \n",
       "\n",
       "         bornCountry   bornCity        died  diedCountry diedCity  \\\n",
       "995           France      Paris   6/12/1912       France    Paris   \n",
       "996      Switzerland     Geneva  10/30/1910  Switzerland   Heiden   \n",
       "997           Poland     Lawice   3/31/1917      Germany  Marburg   \n",
       "998  the Netherlands  Rotterdam    3/1/1911      Germany   Berlin   \n",
       "999          Germany  Remscheid   2/10/1923      Germany   Munich   \n",
       "\n",
       "       organizationName organizationCountry organizationCity  \n",
       "995                 NaN                 NaN              NaN  \n",
       "996                 NaN                 NaN              NaN  \n",
       "997  Marburg University             Germany          Marburg  \n",
       "998   Berlin University             Germany           Berlin  \n",
       "999   Munich University             Germany           Munich  "
      ]
     },
     "execution_count": 6,
     "metadata": {},
     "output_type": "execute_result"
    }
   ],
   "source": [
    "df.tail()"
   ]
  },
  {
   "cell_type": "markdown",
   "id": "e76fc80f",
   "metadata": {},
   "source": [
    "# .shape"
   ]
  },
  {
   "cell_type": "markdown",
   "id": "21d6d5af",
   "metadata": {},
   "source": [
    "It show the total no of rows & Column in the dataset"
   ]
  },
  {
   "cell_type": "code",
   "execution_count": 7,
   "id": "e34d1ec4",
   "metadata": {},
   "outputs": [
    {
     "data": {
      "text/plain": [
       "(1000, 16)"
      ]
     },
     "execution_count": 7,
     "metadata": {},
     "output_type": "execute_result"
    }
   ],
   "source": [
    "df.shape"
   ]
  },
  {
   "cell_type": "markdown",
   "id": "618b8c56",
   "metadata": {},
   "source": [
    "# .Columns"
   ]
  },
  {
   "cell_type": "markdown",
   "id": "81d5b891",
   "metadata": {},
   "source": [
    "It show the no of each Column"
   ]
  },
  {
   "cell_type": "code",
   "execution_count": 8,
   "id": "d90a23ca",
   "metadata": {},
   "outputs": [
    {
     "data": {
      "text/plain": [
       "Index(['year', 'category', 'motivation', 'prizeShare', 'laureateID',\n",
       "       'fullName', 'gender', 'born', 'bornCountry', 'bornCity', 'died',\n",
       "       'diedCountry', 'diedCity', 'organizationName', 'organizationCountry',\n",
       "       'organizationCity'],\n",
       "      dtype='object')"
      ]
     },
     "execution_count": 8,
     "metadata": {},
     "output_type": "execute_result"
    }
   ],
   "source": [
    "df.columns"
   ]
  },
  {
   "cell_type": "markdown",
   "id": "4c3f8320",
   "metadata": {},
   "source": [
    "# .dtypes"
   ]
  },
  {
   "cell_type": "markdown",
   "id": "19881edc",
   "metadata": {},
   "source": [
    "This Attribute show the data type of each column"
   ]
  },
  {
   "cell_type": "code",
   "execution_count": 9,
   "id": "4a5c7bdd",
   "metadata": {},
   "outputs": [
    {
     "data": {
      "text/plain": [
       "year                    int64\n",
       "category               object\n",
       "motivation             object\n",
       "prizeShare              int64\n",
       "laureateID              int64\n",
       "fullName               object\n",
       "gender                 object\n",
       "born                   object\n",
       "bornCountry            object\n",
       "bornCity               object\n",
       "died                   object\n",
       "diedCountry            object\n",
       "diedCity               object\n",
       "organizationName       object\n",
       "organizationCountry    object\n",
       "organizationCity       object\n",
       "dtype: object"
      ]
     },
     "execution_count": 9,
     "metadata": {},
     "output_type": "execute_result"
    }
   ],
   "source": [
    "df.dtypes"
   ]
  },
  {
   "cell_type": "markdown",
   "id": "f641048a",
   "metadata": {},
   "source": [
    "# .unique()"
   ]
  },
  {
   "cell_type": "markdown",
   "id": "bf6d4f5e",
   "metadata": {},
   "source": [
    "In a column, It show the unique value of specific column."
   ]
  },
  {
   "cell_type": "code",
   "execution_count": 10,
   "id": "bb0f0dd0",
   "metadata": {},
   "outputs": [
    {
     "data": {
      "text/plain": [
       "array(['medicine', 'economics', 'peace', 'literature', 'chemistry',\n",
       "       'physics'], dtype=object)"
      ]
     },
     "execution_count": 10,
     "metadata": {},
     "output_type": "execute_result"
    }
   ],
   "source": [
    "df[\"category\"].unique()"
   ]
  },
  {
   "cell_type": "markdown",
   "id": "f34840f6",
   "metadata": {},
   "source": [
    "# .nuique()"
   ]
  },
  {
   "cell_type": "markdown",
   "id": "73792a7b",
   "metadata": {},
   "source": [
    "It will show the total no of unque value from whole data frame"
   ]
  },
  {
   "cell_type": "code",
   "execution_count": 11,
   "id": "2e192d57",
   "metadata": {},
   "outputs": [
    {
     "data": {
      "text/plain": [
       "year                   120\n",
       "category                 6\n",
       "motivation             690\n",
       "prizeShare               4\n",
       "laureateID             992\n",
       "fullName               992\n",
       "gender                   3\n",
       "born                   968\n",
       "bornCountry             88\n",
       "bornCity               646\n",
       "died                   653\n",
       "diedCountry             48\n",
       "diedCity               319\n",
       "organizationName       322\n",
       "organizationCountry     27\n",
       "organizationCity       191\n",
       "dtype: int64"
      ]
     },
     "execution_count": 11,
     "metadata": {},
     "output_type": "execute_result"
    }
   ],
   "source": [
    "df.nunique()"
   ]
  },
  {
   "cell_type": "markdown",
   "id": "4d234903",
   "metadata": {},
   "source": [
    "# .describe()"
   ]
  },
  {
   "cell_type": "markdown",
   "id": "dff6dbc9",
   "metadata": {},
   "source": [
    "It show the Count, mean , median etc"
   ]
  },
  {
   "cell_type": "code",
   "execution_count": 12,
   "id": "dba2fda3",
   "metadata": {},
   "outputs": [
    {
     "data": {
      "text/html": [
       "<div>\n",
       "<style scoped>\n",
       "    .dataframe tbody tr th:only-of-type {\n",
       "        vertical-align: middle;\n",
       "    }\n",
       "\n",
       "    .dataframe tbody tr th {\n",
       "        vertical-align: top;\n",
       "    }\n",
       "\n",
       "    .dataframe thead th {\n",
       "        text-align: right;\n",
       "    }\n",
       "</style>\n",
       "<table border=\"1\" class=\"dataframe\">\n",
       "  <thead>\n",
       "    <tr style=\"text-align: right;\">\n",
       "      <th></th>\n",
       "      <th>year</th>\n",
       "      <th>prizeShare</th>\n",
       "      <th>laureateID</th>\n",
       "    </tr>\n",
       "  </thead>\n",
       "  <tbody>\n",
       "    <tr>\n",
       "      <th>count</th>\n",
       "      <td>1000.000000</td>\n",
       "      <td>1000.000000</td>\n",
       "      <td>1000.000000</td>\n",
       "    </tr>\n",
       "    <tr>\n",
       "      <th>mean</th>\n",
       "      <td>1973.721000</td>\n",
       "      <td>2.027000</td>\n",
       "      <td>509.099000</td>\n",
       "    </tr>\n",
       "    <tr>\n",
       "      <th>std</th>\n",
       "      <td>34.523195</td>\n",
       "      <td>0.944014</td>\n",
       "      <td>298.130617</td>\n",
       "    </tr>\n",
       "    <tr>\n",
       "      <th>min</th>\n",
       "      <td>1901.000000</td>\n",
       "      <td>1.000000</td>\n",
       "      <td>1.000000</td>\n",
       "    </tr>\n",
       "    <tr>\n",
       "      <th>25%</th>\n",
       "      <td>1949.750000</td>\n",
       "      <td>1.000000</td>\n",
       "      <td>250.750000</td>\n",
       "    </tr>\n",
       "    <tr>\n",
       "      <th>50%</th>\n",
       "      <td>1979.000000</td>\n",
       "      <td>2.000000</td>\n",
       "      <td>500.500000</td>\n",
       "    </tr>\n",
       "    <tr>\n",
       "      <th>75%</th>\n",
       "      <td>2003.000000</td>\n",
       "      <td>3.000000</td>\n",
       "      <td>764.250000</td>\n",
       "    </tr>\n",
       "    <tr>\n",
       "      <th>max</th>\n",
       "      <td>2023.000000</td>\n",
       "      <td>4.000000</td>\n",
       "      <td>1034.000000</td>\n",
       "    </tr>\n",
       "  </tbody>\n",
       "</table>\n",
       "</div>"
      ],
      "text/plain": [
       "              year   prizeShare   laureateID\n",
       "count  1000.000000  1000.000000  1000.000000\n",
       "mean   1973.721000     2.027000   509.099000\n",
       "std      34.523195     0.944014   298.130617\n",
       "min    1901.000000     1.000000     1.000000\n",
       "25%    1949.750000     1.000000   250.750000\n",
       "50%    1979.000000     2.000000   500.500000\n",
       "75%    2003.000000     3.000000   764.250000\n",
       "max    2023.000000     4.000000  1034.000000"
      ]
     },
     "execution_count": 12,
     "metadata": {},
     "output_type": "execute_result"
    }
   ],
   "source": [
    "df.describe()"
   ]
  },
  {
   "cell_type": "markdown",
   "id": "e0a1161b",
   "metadata": {},
   "source": [
    "# .value_counts"
   ]
  },
  {
   "cell_type": "markdown",
   "id": "dcea0077",
   "metadata": {},
   "source": [
    "It Shows all the unique values with their count"
   ]
  },
  {
   "cell_type": "code",
   "execution_count": 13,
   "id": "8a63f82e",
   "metadata": {},
   "outputs": [
    {
     "data": {
      "text/plain": [
       "medicine      227\n",
       "physics       225\n",
       "chemistry     194\n",
       "peace         141\n",
       "literature    120\n",
       "economics      93\n",
       "Name: category, dtype: int64"
      ]
     },
     "execution_count": 13,
     "metadata": {},
     "output_type": "execute_result"
    }
   ],
   "source": [
    "df[\"category\"].value_counts()"
   ]
  },
  {
   "cell_type": "markdown",
   "id": "f55f4c89",
   "metadata": {},
   "source": [
    "# .isnull()"
   ]
  },
  {
   "cell_type": "markdown",
   "id": "cb961a9d",
   "metadata": {},
   "source": [
    "It shows the how many null values"
   ]
  },
  {
   "cell_type": "code",
   "execution_count": 14,
   "id": "614ae149",
   "metadata": {},
   "outputs": [
    {
     "data": {
      "text/html": [
       "<div>\n",
       "<style scoped>\n",
       "    .dataframe tbody tr th:only-of-type {\n",
       "        vertical-align: middle;\n",
       "    }\n",
       "\n",
       "    .dataframe tbody tr th {\n",
       "        vertical-align: top;\n",
       "    }\n",
       "\n",
       "    .dataframe thead th {\n",
       "        text-align: right;\n",
       "    }\n",
       "</style>\n",
       "<table border=\"1\" class=\"dataframe\">\n",
       "  <thead>\n",
       "    <tr style=\"text-align: right;\">\n",
       "      <th></th>\n",
       "      <th>year</th>\n",
       "      <th>category</th>\n",
       "      <th>motivation</th>\n",
       "      <th>prizeShare</th>\n",
       "      <th>laureateID</th>\n",
       "      <th>fullName</th>\n",
       "      <th>gender</th>\n",
       "      <th>born</th>\n",
       "      <th>bornCountry</th>\n",
       "      <th>bornCity</th>\n",
       "      <th>died</th>\n",
       "      <th>diedCountry</th>\n",
       "      <th>diedCity</th>\n",
       "      <th>organizationName</th>\n",
       "      <th>organizationCountry</th>\n",
       "      <th>organizationCity</th>\n",
       "    </tr>\n",
       "  </thead>\n",
       "  <tbody>\n",
       "    <tr>\n",
       "      <th>0</th>\n",
       "      <td>False</td>\n",
       "      <td>False</td>\n",
       "      <td>False</td>\n",
       "      <td>False</td>\n",
       "      <td>False</td>\n",
       "      <td>False</td>\n",
       "      <td>False</td>\n",
       "      <td>False</td>\n",
       "      <td>False</td>\n",
       "      <td>False</td>\n",
       "      <td>False</td>\n",
       "      <td>True</td>\n",
       "      <td>True</td>\n",
       "      <td>False</td>\n",
       "      <td>False</td>\n",
       "      <td>False</td>\n",
       "    </tr>\n",
       "    <tr>\n",
       "      <th>1</th>\n",
       "      <td>False</td>\n",
       "      <td>False</td>\n",
       "      <td>False</td>\n",
       "      <td>False</td>\n",
       "      <td>False</td>\n",
       "      <td>False</td>\n",
       "      <td>False</td>\n",
       "      <td>False</td>\n",
       "      <td>False</td>\n",
       "      <td>False</td>\n",
       "      <td>False</td>\n",
       "      <td>True</td>\n",
       "      <td>True</td>\n",
       "      <td>False</td>\n",
       "      <td>False</td>\n",
       "      <td>False</td>\n",
       "    </tr>\n",
       "    <tr>\n",
       "      <th>2</th>\n",
       "      <td>False</td>\n",
       "      <td>False</td>\n",
       "      <td>False</td>\n",
       "      <td>False</td>\n",
       "      <td>False</td>\n",
       "      <td>False</td>\n",
       "      <td>False</td>\n",
       "      <td>False</td>\n",
       "      <td>False</td>\n",
       "      <td>False</td>\n",
       "      <td>False</td>\n",
       "      <td>True</td>\n",
       "      <td>True</td>\n",
       "      <td>True</td>\n",
       "      <td>True</td>\n",
       "      <td>True</td>\n",
       "    </tr>\n",
       "    <tr>\n",
       "      <th>3</th>\n",
       "      <td>False</td>\n",
       "      <td>False</td>\n",
       "      <td>False</td>\n",
       "      <td>False</td>\n",
       "      <td>False</td>\n",
       "      <td>False</td>\n",
       "      <td>False</td>\n",
       "      <td>False</td>\n",
       "      <td>False</td>\n",
       "      <td>False</td>\n",
       "      <td>False</td>\n",
       "      <td>True</td>\n",
       "      <td>True</td>\n",
       "      <td>True</td>\n",
       "      <td>True</td>\n",
       "      <td>True</td>\n",
       "    </tr>\n",
       "    <tr>\n",
       "      <th>4</th>\n",
       "      <td>False</td>\n",
       "      <td>False</td>\n",
       "      <td>False</td>\n",
       "      <td>False</td>\n",
       "      <td>False</td>\n",
       "      <td>False</td>\n",
       "      <td>False</td>\n",
       "      <td>False</td>\n",
       "      <td>False</td>\n",
       "      <td>True</td>\n",
       "      <td>False</td>\n",
       "      <td>True</td>\n",
       "      <td>True</td>\n",
       "      <td>False</td>\n",
       "      <td>False</td>\n",
       "      <td>False</td>\n",
       "    </tr>\n",
       "    <tr>\n",
       "      <th>...</th>\n",
       "      <td>...</td>\n",
       "      <td>...</td>\n",
       "      <td>...</td>\n",
       "      <td>...</td>\n",
       "      <td>...</td>\n",
       "      <td>...</td>\n",
       "      <td>...</td>\n",
       "      <td>...</td>\n",
       "      <td>...</td>\n",
       "      <td>...</td>\n",
       "      <td>...</td>\n",
       "      <td>...</td>\n",
       "      <td>...</td>\n",
       "      <td>...</td>\n",
       "      <td>...</td>\n",
       "      <td>...</td>\n",
       "    </tr>\n",
       "    <tr>\n",
       "      <th>995</th>\n",
       "      <td>False</td>\n",
       "      <td>False</td>\n",
       "      <td>False</td>\n",
       "      <td>False</td>\n",
       "      <td>False</td>\n",
       "      <td>False</td>\n",
       "      <td>False</td>\n",
       "      <td>False</td>\n",
       "      <td>False</td>\n",
       "      <td>False</td>\n",
       "      <td>False</td>\n",
       "      <td>False</td>\n",
       "      <td>False</td>\n",
       "      <td>True</td>\n",
       "      <td>True</td>\n",
       "      <td>True</td>\n",
       "    </tr>\n",
       "    <tr>\n",
       "      <th>996</th>\n",
       "      <td>False</td>\n",
       "      <td>False</td>\n",
       "      <td>False</td>\n",
       "      <td>False</td>\n",
       "      <td>False</td>\n",
       "      <td>False</td>\n",
       "      <td>False</td>\n",
       "      <td>False</td>\n",
       "      <td>False</td>\n",
       "      <td>False</td>\n",
       "      <td>False</td>\n",
       "      <td>False</td>\n",
       "      <td>False</td>\n",
       "      <td>True</td>\n",
       "      <td>True</td>\n",
       "      <td>True</td>\n",
       "    </tr>\n",
       "    <tr>\n",
       "      <th>997</th>\n",
       "      <td>False</td>\n",
       "      <td>False</td>\n",
       "      <td>False</td>\n",
       "      <td>False</td>\n",
       "      <td>False</td>\n",
       "      <td>False</td>\n",
       "      <td>False</td>\n",
       "      <td>False</td>\n",
       "      <td>False</td>\n",
       "      <td>False</td>\n",
       "      <td>False</td>\n",
       "      <td>False</td>\n",
       "      <td>False</td>\n",
       "      <td>False</td>\n",
       "      <td>False</td>\n",
       "      <td>False</td>\n",
       "    </tr>\n",
       "    <tr>\n",
       "      <th>998</th>\n",
       "      <td>False</td>\n",
       "      <td>False</td>\n",
       "      <td>False</td>\n",
       "      <td>False</td>\n",
       "      <td>False</td>\n",
       "      <td>False</td>\n",
       "      <td>False</td>\n",
       "      <td>False</td>\n",
       "      <td>False</td>\n",
       "      <td>False</td>\n",
       "      <td>False</td>\n",
       "      <td>False</td>\n",
       "      <td>False</td>\n",
       "      <td>False</td>\n",
       "      <td>False</td>\n",
       "      <td>False</td>\n",
       "    </tr>\n",
       "    <tr>\n",
       "      <th>999</th>\n",
       "      <td>False</td>\n",
       "      <td>False</td>\n",
       "      <td>False</td>\n",
       "      <td>False</td>\n",
       "      <td>False</td>\n",
       "      <td>False</td>\n",
       "      <td>False</td>\n",
       "      <td>False</td>\n",
       "      <td>False</td>\n",
       "      <td>False</td>\n",
       "      <td>False</td>\n",
       "      <td>False</td>\n",
       "      <td>False</td>\n",
       "      <td>False</td>\n",
       "      <td>False</td>\n",
       "      <td>False</td>\n",
       "    </tr>\n",
       "  </tbody>\n",
       "</table>\n",
       "<p>1000 rows × 16 columns</p>\n",
       "</div>"
      ],
      "text/plain": [
       "      year  category  motivation  prizeShare  laureateID  fullName  gender  \\\n",
       "0    False     False       False       False       False     False   False   \n",
       "1    False     False       False       False       False     False   False   \n",
       "2    False     False       False       False       False     False   False   \n",
       "3    False     False       False       False       False     False   False   \n",
       "4    False     False       False       False       False     False   False   \n",
       "..     ...       ...         ...         ...         ...       ...     ...   \n",
       "995  False     False       False       False       False     False   False   \n",
       "996  False     False       False       False       False     False   False   \n",
       "997  False     False       False       False       False     False   False   \n",
       "998  False     False       False       False       False     False   False   \n",
       "999  False     False       False       False       False     False   False   \n",
       "\n",
       "      born  bornCountry  bornCity   died  diedCountry  diedCity  \\\n",
       "0    False        False     False  False         True      True   \n",
       "1    False        False     False  False         True      True   \n",
       "2    False        False     False  False         True      True   \n",
       "3    False        False     False  False         True      True   \n",
       "4    False        False      True  False         True      True   \n",
       "..     ...          ...       ...    ...          ...       ...   \n",
       "995  False        False     False  False        False     False   \n",
       "996  False        False     False  False        False     False   \n",
       "997  False        False     False  False        False     False   \n",
       "998  False        False     False  False        False     False   \n",
       "999  False        False     False  False        False     False   \n",
       "\n",
       "     organizationName  organizationCountry  organizationCity  \n",
       "0               False                False             False  \n",
       "1               False                False             False  \n",
       "2                True                 True              True  \n",
       "3                True                 True              True  \n",
       "4               False                False             False  \n",
       "..                ...                  ...               ...  \n",
       "995              True                 True              True  \n",
       "996              True                 True              True  \n",
       "997             False                False             False  \n",
       "998             False                False             False  \n",
       "999             False                False             False  \n",
       "\n",
       "[1000 rows x 16 columns]"
      ]
     },
     "execution_count": 14,
     "metadata": {},
     "output_type": "execute_result"
    }
   ],
   "source": [
    "df.isnull()"
   ]
  },
  {
   "cell_type": "code",
   "execution_count": 15,
   "id": "483ad1db",
   "metadata": {},
   "outputs": [
    {
     "data": {
      "text/plain": [
       "<AxesSubplot:>"
      ]
     },
     "execution_count": 15,
     "metadata": {},
     "output_type": "execute_result"
    },
    {
     "data": {
      "image/png": "[encoded data removed]",
      "text/plain": [
       "<Figure size 432x288 with 2 Axes>"
      ]
     },
     "metadata": {
      "needs_background": "light"
     },
     "output_type": "display_data"
    }
   ],
   "source": [
    "sns.heatmap(df.isnull())"
   ]
  },
  {
   "cell_type": "code",
   "execution_count": 18,
   "id": "b7e7bfba",
   "metadata": {},
   "outputs": [
    {
     "data": {
      "text/plain": [
       "<AxesSubplot:title={'center':'Pie Chart for gender'}, ylabel='gender'>"
      ]
     },
     "execution_count": 18,
     "metadata": {},
     "output_type": "execute_result"
    },
    {
     "data": {
      "image/png": "[encoded data removed]",
      "text/plain": [
       "<Figure size 432x288 with 1 Axes>"
      ]
     },
     "metadata": {},
     "output_type": "display_data"
    }
   ],
   "source": [
    "df['gender'].value_counts().plot(kind = 'pie' , title = 'Pie Chart for gender', \n",
    "                             autopct=\"%.0f%%\", colormap='nipy_spectral_r')"
   ]
  },
  {
   "cell_type": "code",
   "execution_count": 19,
   "id": "ccf39634",
   "metadata": {},
   "outputs": [
    {
     "data": {
      "image/png": "[encoded data removed]",
      "text/plain": [
       "<Figure size 576x432 with 1 Axes>"
      ]
     },
     "metadata": {
      "needs_background": "light"
     },
     "output_type": "display_data"
    }
   ],
   "source": [
    "plt.figure(figsize=(8, 6))\n",
    "sns.countplot(data=df, x='gender')\n",
    "plt.xlabel('gender')\n",
    "plt.ylabel('prizeShare')\n",
    "plt.title('Gender Vise Winners')\n",
    "plt.show()"
   ]
  },
  {
   "cell_type": "code",
   "execution_count": 20,
   "id": "dee50ff9",
   "metadata": {},
   "outputs": [
    {
     "data": {
      "image/png": "[encoded data removed]",
      "text/plain": [
       "<Figure size 576x432 with 1 Axes>"
      ]
     },
     "metadata": {
      "needs_background": "light"
     },
     "output_type": "display_data"
    }
   ],
   "source": [
    "plt.figure(figsize=(8, 6))\n",
    "sns.countplot(data=df, x='gender', hue =\"category\")\n",
    "plt.xlabel('Gender')\n",
    "plt.ylabel('category')\n",
    "plt.title('Gender Vise category')\n",
    "plt.show()"
   ]
  },
  {
   "cell_type": "code",
   "execution_count": 23,
   "id": "125236ed",
   "metadata": {},
   "outputs": [
    {
     "data": {
      "image/png": "[encoded data removed]",
      "text/plain": [
       "<Figure size 576x432 with 1 Axes>"
      ]
     },
     "metadata": {
      "needs_background": "light"
     },
     "output_type": "display_data"
    }
   ],
   "source": [
    "plt.figure(figsize=(8, 6))\n",
    "sns.countplot(data=df, x='category')\n",
    "plt.xlabel('category')\n",
    "plt.ylabel('prizeShare')\n",
    "plt.title('category Vise Winners')\n",
    "plt.show()"
   ]
  },
  {
   "cell_type": "code",
   "execution_count": 32,
   "id": "f120b580",
   "metadata": {},
   "outputs": [
    {
     "data": {
      "image/png": "[encoded data removed]",
      "text/plain": [
       "<Figure size 576x432 with 1 Axes>"
      ]
     },
     "metadata": {
      "needs_background": "light"
     },
     "output_type": "display_data"
    }
   ],
   "source": [
    "# Create a line plot to visualize the relationship between age and heart rate\n",
    "plt.figure(figsize=(8, 6))\n",
    "sns.lineplot(data=df, x='category', y='year')\n",
    "plt.title('Year By Category Win')\n",
    "plt.xlabel('category')\n",
    "plt.ylabel('year')\n",
    "plt.tight_layout()\n",
    "plt.show()"
   ]
  }
 ],
 "metadata": {
  "kernelspec": {
   "display_name": "Python 3 (ipykernel)",
   "language": "python",
   "name": "python3"
  },
  "language_info": {
   "codemirror_mode": {
    "name": "ipython",
    "version": 3
   },
   "file_extension": ".py",
   "mimetype": "text/x-python",
   "name": "python",
   "nbconvert_exporter": "python",
   "pygments_lexer": "ipython3",
   "version": "3.9.12"
  }
 },
 "nbformat": 4,
 "nbformat_minor": 5
}
